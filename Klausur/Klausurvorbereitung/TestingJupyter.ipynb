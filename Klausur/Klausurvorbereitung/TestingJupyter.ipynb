{
 "cells": [
  {
   "cell_type": "code",
   "execution_count": 1,
   "id": "3587c49c-99f2-4128-ba74-413f8319cb70",
   "metadata": {},
   "outputs": [
    {
     "name": "stdout",
     "output_type": "stream",
     "text": [
      "Hallo Welt\n"
     ]
    }
   ],
   "source": [
    "print(\"Hallo Welt\")"
   ]
  },
  {
   "cell_type": "code",
   "execution_count": 5,
   "id": "bfca4661-936a-48bd-bb52-b384627e42f5",
   "metadata": {},
   "outputs": [
    {
     "name": "stdout",
     "output_type": "stream",
     "text": [
      "Das Auto ist 50 Kilometer gefahren\n"
     ]
    }
   ],
   "source": [
    "class Auto:\n",
    "    # Hauptvariablen festlegen\n",
    "    def __init__(self):\n",
    "        self.kmstand = 0\n",
    "\n",
    "    # Funktion erstellen die km-Stand erhöht pro eingegebene Kilometer\n",
    "    def fahren(self, km):\n",
    "        self.kmstand += km\n",
    "\n",
    "# Ausgabe\n",
    "bmw = Auto()\n",
    "bmw.fahren(50)\n",
    "print(f\"Das Auto ist {bmw.kmstand} Kilometer gefahren\")"
   ]
  },
  {
   "cell_type": "code",
   "execution_count": 8,
   "id": "217c6f2e-f1da-49bb-8139-a92c6fd06aac",
   "metadata": {},
   "outputs": [
    {
     "name": "stdin",
     "output_type": "stream",
     "text": [
      "Geben Sie eine beliebige Zahl ein:  7\n"
     ]
    },
    {
     "name": "stdout",
     "output_type": "stream",
     "text": [
      "Ihre Eingabe war korrekt, dass Programm wird weitergeführt!\n"
     ]
    }
   ],
   "source": [
    "# Bedingung für While-Schleife festlegen\n",
    "x = True \n",
    "# Schleife zur Überprüfung\n",
    "while x == True:\n",
    "    # User-Input einer beliebigen Zahl \n",
    "    z = input(\"Geben Sie eine beliebige Zahl ein: \")\n",
    "    # Testen, ob Zahl ganzzahlig ist oder nicht\n",
    "    try:\n",
    "        zahl = int(z)\n",
    "        print(\"Ihre Eingabe war korrekt, dass Programm wird weitergeführt!\")\n",
    "        x = False\n",
    "    except:\n",
    "        print(\"Dies war keine ganzzahlige Zahl!\")\n",
    "        print(\"Versuchen sie es erneut!\")"
   ]
  },
  {
   "cell_type": "code",
   "execution_count": null,
   "id": "ff992a17-c88d-450a-bad9-345f1e8073cf",
   "metadata": {},
   "outputs": [],
   "source": []
  }
 ],
 "metadata": {
  "kernelspec": {
   "display_name": "Python 3 (ipykernel)",
   "language": "python",
   "name": "python3"
  },
  "language_info": {
   "codemirror_mode": {
    "name": "ipython",
    "version": 3
   },
   "file_extension": ".py",
   "mimetype": "text/x-python",
   "name": "python",
   "nbconvert_exporter": "python",
   "pygments_lexer": "ipython3",
   "version": "3.11.5"
  }
 },
 "nbformat": 4,
 "nbformat_minor": 5
}
